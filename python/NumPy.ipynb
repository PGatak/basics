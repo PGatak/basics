{
 "cells": [
  {
   "cell_type": "code",
   "execution_count": 1,
   "metadata": {},
   "outputs": [],
   "source": [
    "import numpy as np\n",
    "import timeit"
   ]
  },
  {
   "cell_type": "code",
   "execution_count": 2,
   "metadata": {},
   "outputs": [
    {
     "name": "stdout",
     "output_type": "stream",
     "text": [
      "Czas wykonania pierwszego kodu wynosi: 3.4569 sekund.\n",
      "\n",
      "Czas wykonania drugiego kodu wynosi: 0.6713 sekund.\n",
      "\n"
     ]
    }
   ],
   "source": [
    "# Porównanie szybkoci wykonania zadania:\n",
    "\n",
    "t1 = timeit.Timer(\"[math.sin(i) for i in range(10000)]\",\"import math\") # działanie na pojedyńczym elemencie obiektu\n",
    "czas1 = t1.timeit(number=1000)\n",
    "print(\"Czas wykonania pierwszego kodu wynosi:\",round(czas1,4),\"sekund.\\n\")\n",
    "\n",
    "t2 = timeit.Timer(\"np.sin(np.arange(10000))\",\"import numpy as np\") # działanie na całym obiekcie\n",
    "czas2 = t2.timeit(number=1000)\n",
    "print(\"Czas wykonania drugiego kodu wynosi:\",round(czas2,4),\"sekund.\\n\")"
   ]
  },
  {
   "cell_type": "code",
   "execution_count": 3,
   "metadata": {},
   "outputs": [
    {
     "name": "stdout",
     "output_type": "stream",
     "text": [
      "Wektor: [0 1 2 3 4 5] ma wymiar: 1 i ksztalt: (6,).Liczba wszystkich jego elementow wynosi: 6 a liczba elementow w pierwszym wymiarze: 6.\n",
      "Typ danych:  int64\n"
     ]
    }
   ],
   "source": [
    "x = np.array([0,1,2,3,4,5]) # wektor szescioelementowy\n",
    "x1 = x.ndim                 # wymiar tablicy x\n",
    "x2 = x.shape                # N-elementowa krotka okreslajaca rozmiar dla kazdego wymiaru\n",
    "x3 = x.size                 # liczba wszystkich elementow\n",
    "x4 = len(x)                 # liczba elementow w pierwszym wymiarze\n",
    "x5 = x.dtype\n",
    "\n",
    "print(\"Wektor:\", x ,\"ma wymiar:\", x1 ,\"i ksztalt:\", x2 , end=\".\")\n",
    "print(\"Liczba wszystkich jego elementow wynosi:\",x3,\"a liczba elementow w pierwszym wymiarze:\",x4,end=\".\\n\")\n",
    "print(\"Typ danych: \", x5)"
   ]
  },
  {
   "cell_type": "code",
   "execution_count": 4,
   "metadata": {},
   "outputs": [
    {
     "name": "stdout",
     "output_type": "stream",
     "text": [
      "Macierz: [[1 2 3]\n",
      " [4 5 6]\n",
      " [7 8 9]] ma wymiar: 2 i ksztalt: (3, 3).Liczba wszystkich jej elementow wynosi: 9 a liczba elementow w pierwszym wymiarze: 3.\n",
      "Typ danych:  int64\n"
     ]
    }
   ],
   "source": [
    "# Analogicznie jak wyżej dla macierzy\n",
    "\n",
    "A = np.array([(1,2,3),(4,5,6),(7,8,9)])\n",
    "a1 = A.ndim\n",
    "a2 = A.shape\n",
    "a3 = A.size\n",
    "a4 = len(A)\n",
    "a5 = A.dtype\n",
    "\n",
    "print(\"Macierz:\", A ,\"ma wymiar:\", a1 ,\"i ksztalt:\", a2 , end=\".\")\n",
    "print(\"Liczba wszystkich jej elementow wynosi:\",a3,\"a liczba elementow w pierwszym wymiarze:\",a4,end=\".\\n\")\n",
    "print(\"Typ danych: \", a5)"
   ]
  },
  {
   "cell_type": "markdown",
   "metadata": {},
   "source": [
    "konwersja"
   ]
  },
  {
   "cell_type": "code",
   "execution_count": 27,
   "metadata": {},
   "outputs": [
    {
     "data": {
      "text/plain": [
       "array([[1., 2., 3.],\n",
       "       [4., 5., 6.],\n",
       "       [7., 8., 9.]])"
      ]
     },
     "execution_count": 27,
     "metadata": {},
     "output_type": "execute_result"
    }
   ],
   "source": [
    "A = A.astype(np.float64);A"
   ]
  },
  {
   "cell_type": "markdown",
   "metadata": {},
   "source": [
    "lista vs array"
   ]
  },
  {
   "cell_type": "code",
   "execution_count": 18,
   "metadata": {},
   "outputs": [],
   "source": [
    "text = \"analiza id\""
   ]
  },
  {
   "cell_type": "code",
   "execution_count": 19,
   "metadata": {},
   "outputs": [
    {
     "data": {
      "text/plain": [
       "[97, 110, 97, 108, 105, 122, 97, 32, 105, 100]"
      ]
     },
     "execution_count": 19,
     "metadata": {},
     "output_type": "execute_result"
    }
   ],
   "source": [
    "text_list = [ord(x) for x in text]; text_list"
   ]
  },
  {
   "cell_type": "code",
   "execution_count": 20,
   "metadata": {},
   "outputs": [
    {
     "data": {
      "text/plain": [
       "array([ 97, 110,  97, 108, 105, 122,  97,  32, 105, 100])"
      ]
     },
     "execution_count": 20,
     "metadata": {},
     "output_type": "execute_result"
    }
   ],
   "source": [
    "text_array = np.array(text_list); text_array"
   ]
  },
  {
   "cell_type": "code",
   "execution_count": 21,
   "metadata": {},
   "outputs": [
    {
     "data": {
      "text/plain": [
       "[97,\n",
       " 110,\n",
       " 97,\n",
       " 108,\n",
       " 105,\n",
       " 122,\n",
       " 97,\n",
       " 32,\n",
       " 105,\n",
       " 100,\n",
       " 97,\n",
       " 110,\n",
       " 97,\n",
       " 108,\n",
       " 105,\n",
       " 122,\n",
       " 97,\n",
       " 32,\n",
       " 105,\n",
       " 100]"
      ]
     },
     "execution_count": 21,
     "metadata": {},
     "output_type": "execute_result"
    }
   ],
   "source": [
    "text_list * 2"
   ]
  },
  {
   "cell_type": "code",
   "execution_count": 22,
   "metadata": {},
   "outputs": [
    {
     "data": {
      "text/plain": [
       "array([194, 220, 194, 216, 210, 244, 194,  64, 210, 200])"
      ]
     },
     "execution_count": 22,
     "metadata": {},
     "output_type": "execute_result"
    }
   ],
   "source": [
    "text_array * 2"
   ]
  },
  {
   "cell_type": "markdown",
   "metadata": {},
   "source": [
    "lista w czasie mnozenia podwoila ilosc swoich elemnetow. Array jest zwektoryzowany, dlatego zostala pomnozona wartosc jego elementow. Aby uzyskac taki wynik w przypadku list nalezy uzyc list comprehension [x * 2 for x in text_list] - ma to jednak wplyw na wydajnosc"
   ]
  },
  {
   "cell_type": "code",
   "execution_count": 25,
   "metadata": {},
   "outputs": [
    {
     "name": "stdout",
     "output_type": "stream",
     "text": [
      "[[ 97 110  97 108 105]\n",
      " [122  97  32 105 100]] \n",
      "\n",
      "[ 97 110  97 108 105 122  97  32 105 100] \n",
      "\n",
      "[97, 110, 97, 108, 105, 122, 97, 32, 105, 100] \n",
      "\n"
     ]
    }
   ],
   "source": [
    "B = text_array.reshape(2,5)         # zmiana kształtu tablicy\n",
    "print(B,\"\\n\")\n",
    "C = B.ravel()              # zmiana tablicy na wektor\n",
    "print(C,\"\\n\")\n",
    "Cl = C.tolist()            # konwersja na liste\n",
    "print(Cl,\"\\n\")"
   ]
  },
  {
   "cell_type": "code",
   "execution_count": 24,
   "metadata": {},
   "outputs": [
    {
     "name": "stdout",
     "output_type": "stream",
     "text": [
      "[1.  1.5 2.  2.5 3.  3.5 4.  4.5] \n",
      "\n"
     ]
    }
   ],
   "source": [
    "# Kilka specjalnych macierzy\n",
    "\n",
    "print(np.arange(1,5,0.5),\"\\n\")           # ciag liczb od 1 do 5 (bez 5) z krokiem 0.5"
   ]
  },
  {
   "cell_type": "code",
   "execution_count": null,
   "metadata": {},
   "outputs": [],
   "source": [
    "print(np.linspace(1,6,6),\"\\n\")           # ciag arytmetyczny liczb z przedzialu od 1 do 6 o dlugosci 6"
   ]
  },
  {
   "cell_type": "code",
   "execution_count": null,
   "metadata": {},
   "outputs": [],
   "source": [
    "print(np.eye(3),\"\\n\")                    # macierz jednostkowa  \n",
    "print(np.eye(3,dtype = np.bool_),\"\\n\")   # jak wyzej ale z okreslonym typem elementow"
   ]
  },
  {
   "cell_type": "code",
   "execution_count": null,
   "metadata": {},
   "outputs": [],
   "source": [
    "print(np.diag([1,7,9]),\"\\n\")             # macierz diagonalna"
   ]
  },
  {
   "cell_type": "code",
   "execution_count": null,
   "metadata": {},
   "outputs": [],
   "source": [
    "print(np.zeros((4,5)),\"\\n\")              # macierz zerowa"
   ]
  },
  {
   "cell_type": "code",
   "execution_count": 21,
   "metadata": {},
   "outputs": [
    {
     "name": "stdout",
     "output_type": "stream",
     "text": [
      "[1.  1.5 2.  2.5 3.  3.5 4.  4.5] \n",
      "\n",
      "[1. 2. 3. 4. 5. 6.] \n",
      "\n",
      "[[1. 0. 0.]\n",
      " [0. 1. 0.]\n",
      " [0. 0. 1.]] \n",
      "\n",
      "[[ True False False]\n",
      " [False  True False]\n",
      " [False False  True]] \n",
      "\n",
      "[[1 0 0]\n",
      " [0 7 0]\n",
      " [0 0 9]] \n",
      "\n",
      "[[0. 0. 0. 0. 0.]\n",
      " [0. 0. 0. 0. 0.]\n",
      " [0. 0. 0. 0. 0.]\n",
      " [0. 0. 0. 0. 0.]] \n",
      "\n",
      "[[1. 1. 1. 1. 1.]\n",
      " [1. 1. 1. 1. 1.]\n",
      " [1. 1. 1. 1. 1.]\n",
      " [1. 1. 1. 1. 1.]\n",
      " [1. 1. 1. 1. 1.]] \n",
      "\n",
      "[1 1 1 1 1 1 1 1 1 1]\n"
     ]
    }
   ],
   "source": [
    "print(np.ones((5,5)),\"\\n\")               # macierz wypelniona jedynkami\n",
    "print(np.ones(10, dtype=\"int64\"))        # jak wyżej z okreslonym typem elementow"
   ]
  },
  {
   "cell_type": "code",
   "execution_count": 14,
   "metadata": {},
   "outputs": [
    {
     "name": "stdout",
     "output_type": "stream",
     "text": [
      "[0 1 2 3 4 5 6 7 8 9] \n",
      "\n",
      "[ 0  2  4  6  8 10 12 14 16 18] \n",
      "\n",
      "[ 0  3  6  9 12 15 18 21 24 27] \n",
      "\n",
      "[  0   2   8  18  32  50  72  98 128 162] \n",
      "\n",
      "[0 0 0 0 0 0 0 0 0 0] \n",
      "\n",
      "[100 101 102 103 104 105 106 107 108 109] \n",
      "\n",
      "[ 0 -1 -2 -3 -4 -5 -6 -7 -8 -9] \n",
      "\n",
      "[ 0  1  4  9 16 25 36 49 64 81] \n",
      "\n",
      "[False False False False False False  True  True  True  True] \n",
      "\n",
      "[      -inf 0.         0.69314718 1.09861229 1.38629436 1.60943791\n",
      " 1.79175947 1.94591015 2.07944154 2.19722458] \n",
      "\n",
      "[ 0  1  4  9 16 25 36 49 64 81] \n",
      "\n",
      "[0.         1.         1.41421356 1.73205081 2.         2.23606798\n",
      " 2.44948974 2.64575131 2.82842712 3.        ] \n",
      "\n"
     ]
    },
    {
     "name": "stderr",
     "output_type": "stream",
     "text": [
      "/home/adsum/.local/lib/python3.6/site-packages/ipykernel_launcher.py:26: RuntimeWarning: divide by zero encountered in log\n"
     ]
    }
   ],
   "source": [
    "# Operatory - działania zwektoryzowane\n",
    "# A + B - dodawanie\n",
    "# A - B - odejmowanie\n",
    "# A * B - mnozenie\n",
    "# A / B - dzielenie\n",
    "# A ** B -  potegowanie\n",
    "# A // B - dzielenie calkowite\n",
    "# A % B - reszta z dzielenia\n",
    "# - A - zmiana znaku\n",
    "# A > - przyrównanie\n",
    "# np.log - logarytm\n",
    "# np.square - kwadrat\n",
    "# np.sqrt - pierwiastek\n",
    "\n",
    "n = np.array(np.arange(0,10,1))\n",
    "s = np.array(np.arange(0,20,2))\n",
    "print(n,\"\\n\")\n",
    "print(s,\"\\n\")\n",
    "print(n+s,\"\\n\")\n",
    "print(n*s,\"\\n\")\n",
    "print(0*n,\"\\n\")\n",
    "print(n+100,\"\\n\")\n",
    "print(n-s,\"\\n\")\n",
    "print(n**2,\"\\n\")\n",
    "print(n>5,\"\\n\")\n",
    "print(np.log(n),\"\\n\")\n",
    "print(np.square(n),\"\\n\")\n",
    "print(np.sqrt(n),\"\\n\")"
   ]
  },
  {
   "cell_type": "code",
   "execution_count": 18,
   "metadata": {},
   "outputs": [
    {
     "name": "stdout",
     "output_type": "stream",
     "text": [
      "[[0.67261186 0.16013947 0.43445166 0.86957366]\n",
      " [0.01294772 0.61467653 0.59314477 0.79239341]\n",
      " [0.04054275 0.70405706 0.15933217 0.59396923]] \n",
      "\n",
      "[[ 0.01055508 -0.89380136  0.16580312 -0.7271138 ]\n",
      " [-0.52214797 -1.05238236 -2.06840119 -1.17478761]\n",
      " [ 0.15778972 -2.08602551  0.92918329 -0.77205263]] \n",
      "\n",
      "['a' 'a' 'a' 'a' 'a'] \n",
      "\n",
      "[1 1 1 1 2 2 2 2 1 1 1 1] \n",
      "\n",
      "[1 1 2 2 2 3 3 3 3] \n",
      "\n",
      "[[1 1 1 1 2 2 2 2 2]\n",
      " [3 3 3 3 4 4 4 4 4]] \n",
      "\n",
      "[[1 2]\n",
      " [1 2]\n",
      " [1 2]\n",
      " [1 2]\n",
      " [3 4]\n",
      " [3 4]\n",
      " [3 4]\n",
      " [3 4]\n",
      " [3 4]] \n",
      "\n",
      "['a' 'a' 'a' 'a' 'a'] \n",
      "\n"
     ]
    }
   ],
   "source": [
    "# Macierze o elementach bedacych liczbami pseudolosowymi\n",
    "\n",
    "print(np.random.rand(3,4),\"\\n\")          # rozklad jednostajny na przedziale od 0 do 1\n",
    "print(np.random.randn(3,4),\"\\n\")         # rozklad normalny standardowy\n",
    "\n",
    "# Powtarzanie wartosci\n",
    "\n",
    "print(np.repeat(\"a\",5),\"\\n\")             # powtarza 5 razy napis \"a\"\n",
    "print(np.repeat([1,2,1],4),\"\\n\")\n",
    "print(np.repeat([1,2,3],(2,3,4)),\"\\n\")\n",
    "print(np.repeat([[1,2],[3,4]],(4,5),axis = 1),\"\\n\")    # axis = 1 - kolumna\n",
    "print(np.repeat([[1,2],[3,4]],(4,5),axis = 0),\"\\n\")    # axis = 0 - wiersz\n",
    "print(np.tile(\"a\",5),\"\\n\")"
   ]
  },
  {
   "cell_type": "code",
   "execution_count": 19,
   "metadata": {},
   "outputs": [
    {
     "name": "stdout",
     "output_type": "stream",
     "text": [
      "[1.  2.  2.  0.4] \n",
      "\n",
      "[[1.  2.  3.  0.5]\n",
      " [4.  5.  6.  0.5]\n",
      " [7.  8.  9.  0.5]] \n",
      "\n",
      "[[1.  2.  3. ]\n",
      " [4.  5.  6. ]\n",
      " [7.  8.  9. ]\n",
      " [0.5 0.5 0.5]] \n",
      "\n",
      "[[1 2 3]\n",
      " [4 5 6]\n",
      " [7 8 9]\n",
      " [1 2 3]\n",
      " [4 5 6]\n",
      " [7 8 9]] \n",
      "\n",
      "[[1 2 3]\n",
      " [4 5 6]\n",
      " [7 8 9]\n",
      " [1 2 3]] \n",
      "\n",
      "[[1 2 3 1]\n",
      " [4 5 6 2]\n",
      " [7 8 9 3]] \n",
      "\n",
      "[[1 9 2 3]\n",
      " [4 9 5 6]\n",
      " [7 9 8 9]] \n",
      "\n",
      "[[1 2 3]\n",
      " [9 9 9]\n",
      " [4 5 6]\n",
      " [7 8 9]] \n",
      "\n",
      "[1 1 4] \n",
      "\n",
      "[1 1 1 1 1 1 4] \n",
      "\n",
      "[1 2 3] \n",
      "\n",
      "[1.  1.5 2.  2.5 3.  3.5] \n",
      "\n"
     ]
    }
   ],
   "source": [
    "# Operacje na tablicach\n",
    "\n",
    "print(np.append(np.array([1,2,2]),0.4),\"\\n\")       # dodanie elementu do tablicy, wynik zawsze w postaci wektora\n",
    "\n",
    "L = np.array([[1,2,3],[4,5,6],[7,8,9]])\n",
    "\n",
    "print(np.append(L,np.tile(0.5,(3,1)),axis = 1),\"\\n\")   # nowa kolumna\n",
    "print(np.append(L,np.tile(0.5,(1,3)),axis = 0),\"\\n\")   # nowy wiersz\n",
    "print(np.concatenate((A,L),axis=0),\"\\n\")               # laczenie macierzy\n",
    "print(np.row_stack((L,[1,2,3])),\"\\n\")\n",
    "print(np.column_stack((L,[1,2,3])),\"\\n\")\n",
    "\n",
    "print(np.insert(L,[1],[9],axis = 1),\"\\n\")             # po pierwszej kolumnie wstawia kolumne 9\n",
    "print(np.insert(L,[1],[9],axis = 0),\"\\n\")             # po pierwszym wierszu wstawia wiersz 9\n",
    "\n",
    "# Obiekt r_\n",
    "\n",
    "print(np.r_[1,1,4],\"\\n\")\n",
    "print(np.r_[1,[1]*5,4],\"\\n\")\n",
    "print(np.r_[1:4],\"\\n\")\n",
    "print(np.r_[1:4:0.5],\"\\n\")"
   ]
  },
  {
   "cell_type": "code",
   "execution_count": 28,
   "metadata": {},
   "outputs": [
    {
     "name": "stdout",
     "output_type": "stream",
     "text": [
      "[[1 2 3]\n",
      " [4 5 5]] \n",
      "\n",
      "[[1 4]\n",
      " [2 5]\n",
      " [3 5]] \n",
      "\n",
      "[[14 29]\n",
      " [29 66]] \n",
      "\n"
     ]
    }
   ],
   "source": [
    "# Uwaga: Algebraiczne mnozenie macierzy - funkcja dot()\n",
    "\n",
    "M = np.array([[1,2,3],[4,5,5]])\n",
    "print(M,\"\\n\")\n",
    "print(M.T,\"\\n\")               # transpozycja macierzy M czyli zamiana kolumn na wiersze\n",
    "\n",
    "print(np.dot(M,M.T),\"\\n\")"
   ]
  },
  {
   "cell_type": "code",
   "execution_count": 29,
   "metadata": {},
   "outputs": [
    {
     "name": "stdout",
     "output_type": "stream",
     "text": [
      "[ 0  2  6 12 20 30 42 56 72 90] \n",
      "\n",
      "[2 2 2 2 2 2 2 2 2] \n",
      "\n"
     ]
    }
   ],
   "source": [
    "# Skumulowana suma i roznica elementow tablicy\n",
    "\n",
    "print(np.cumsum(s),\"\\n\") # w przypadku macierzy axis = 0 dla wiersza i axis = 1 dla kolumny\n",
    "print(np.diff(s),\"\\n\")"
   ]
  },
  {
   "cell_type": "code",
   "execution_count": 20,
   "metadata": {},
   "outputs": [
    {
     "name": "stdout",
     "output_type": "stream",
     "text": [
      "[[1 2 3]\n",
      " [4 5 5]\n",
      " [1 0 9]] \n",
      "\n",
      "[[1 4 1]\n",
      " [2 5 0]\n",
      " [3 5 9]] \n",
      "\n",
      "[[14 29 28]\n",
      " [29 66 49]\n",
      " [28 49 82]] \n",
      "\n",
      "[ 0  2  6 12 20 30 42 56 72 90] \n",
      "\n",
      "[2 2 2 2 2 2 2 2 2] \n",
      "\n",
      "[[1 2 4]\n",
      " [1 1 5]\n",
      " [1 3 2]\n",
      " [2 5 9]\n",
      " [2 6 7]\n",
      " [2 7 1]] \n",
      "\n",
      "[2 5 8 3 5 5 6 7 8 9] \n",
      "\n",
      "5 \t 9 \n",
      "\n",
      "[8 5 6] \n",
      "\n",
      "[8 5 6 8] \n",
      "\n",
      "[2 8 5 6] \n",
      "\n",
      "[2 8 3 7] \n",
      "\n",
      "[2 5 5 5 9] \n",
      "\n",
      "[2 8 6 8] \n",
      "\n",
      "0 : [1 2 4]\n",
      "1 : [1 1 5]\n",
      "2 : [1 3 2]\n",
      "3 : [2 5 9]\n",
      "4 : [2 6 7]\n",
      "5 : [2 7 1]\n",
      "[2 5 9] \n",
      "\n",
      "2 \n",
      "\n",
      "2 \n",
      "\n",
      "[[1 2 4]\n",
      " [1 1 5]\n",
      " [1 3 2]] \n",
      "\n",
      "[[4]\n",
      " [5]\n",
      " [2]\n",
      " [9]\n",
      " [7]\n",
      " [1]] \n",
      "\n",
      "[[1 3 2]\n",
      " [2 5 9]\n",
      " [2 6 7]] \n",
      "\n",
      "[[2 4]\n",
      " [1 5]] \n",
      "\n",
      "(array([1, 4, 5]),) \n",
      "\n",
      "(array([0, 1, 1, 2, 5]), array([0, 0, 1, 0, 2])) \n",
      "\n",
      "(array([0]),) \n",
      "\n"
     ]
    }
   ],
   "source": [
    "# Indeksowanie tablic\n",
    "\n",
    "x = np.array([2,5,8,3,5,5,6,7,8,9])\n",
    "A = np.array([[1,2,4],[1,1,5],[1,3,2],[2,5,9],[2,6,7],[2,7,1]])\n",
    "\n",
    "print(A,\"\\n\")\n",
    "print(x,\"\\n\")\n",
    "\n",
    "print(x[4],\"\\t\",x[-1],\"\\n\")             # piaty i ostatni element wektora\n",
    "print(x[2:7:2],\"\\n\")                    # wybieramy elementy od 2 do 7(bez ostatniego) oddalone od siebie o 2\n",
    "print(x[2::2],\"\\n\")\n",
    "print(x[:7:2],\"\\n\")\n",
    "print(x[[0,2,3,7]],\"\\n\")                     # indeksowanie wektorem\n",
    "print(x[[True,True,False,False,True,True,False,False,False,True]],\"\\n\") # indeksowanie wektorem logicznym\n",
    "\n",
    "# Zwektoryzowane operatory relacyjne i logiczne. Operatory relacyjne bez zmian.\n",
    "# Operatory logiczne:\n",
    "# a | b - alternatywa\n",
    "# a & b - koniunkcja\n",
    "# ~ a   - negacja\n",
    "# Operatory relacyjne maja nizszy priorytet niz logiczne, nalezy pamietac o nawiasach\n",
    "\n",
    "print(x[x % 2 == 0],\"\\n\")                   # wybranie elementow o wartosciach parzystych\n",
    "\n",
    "for index , wiersz in enumerate(A):\n",
    "    print(index,\":\",wiersz,end=\"\\n\")\n",
    "\n",
    "print(A[3],\"\\n\")                           # trzeci wiersz\n",
    "print(A[3][0],\"\\n\")                        # zerowy element trzeciego wiersza\n",
    "\n",
    "print(A[(3,0)],\"\\n\")                       # inna metoda (mozna pominac ()) - zerowy element trzeciego wiersza\n",
    "\n",
    "print(A[0:3:1,:],\"\\n\")                     # pierwsze trzy wiersze\n",
    "print(A[:,2:4:1],\"\\n\")                     # trzecia kolumna\n",
    "print(A[2:5,:3],\"\\n\")                      # wiersze 2,3,4 i wszystkie kolumny\n",
    "\n",
    "print(A[np.ix_([0,1],[1,2])],\"\\n\")         # wybieramy 0 i 1 wiersz oraz 1 i 2 kolumne\n",
    "\n",
    "# Wyszukiwanie numerow indeksow elementow spelniajacych dany warunek\n",
    "\n",
    "print(np.nonzero(x == 5),\"\\n\")             # numery indeksow ktorych elementy maja wartosc 5\n",
    "print(np.nonzero(A == 1),\"\\n\")             # numery indeksow ktorych elementy maja wartosc 1\n",
    "print(np.where(x == 2),\"\\n\")"
   ]
  },
  {
   "cell_type": "code",
   "execution_count": null,
   "metadata": {},
   "outputs": [],
   "source": []
  }
 ],
 "metadata": {
  "kernelspec": {
   "display_name": "Python 3",
   "language": "python",
   "name": "python3"
  },
  "language_info": {
   "codemirror_mode": {
    "name": "ipython",
    "version": 3
   },
   "file_extension": ".py",
   "mimetype": "text/x-python",
   "name": "python",
   "nbconvert_exporter": "python",
   "pygments_lexer": "ipython3",
   "version": "3.6.9"
  }
 },
 "nbformat": 4,
 "nbformat_minor": 4
}
