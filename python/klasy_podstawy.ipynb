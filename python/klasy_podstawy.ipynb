{
 "cells": [
  {
   "cell_type": "markdown",
   "metadata": {},
   "source": [
    "# Abstrakcja\n",
    "Tworzymy klasę abstrakcyjną, ponieważ chcemy zakazać tworzenia instancji klasy Animal."
   ]
  },
  {
   "cell_type": "code",
   "execution_count": 1,
   "metadata": {},
   "outputs": [],
   "source": [
    "from abc import ABC, abstractmethod\n",
    "\n",
    "\n",
    "class Animal(ABC):\n",
    "    def __init__(self, name):\n",
    "        self.name = name\n",
    "        \n",
    "    @abstractmethod # wymuszenie implementacji metody w klasach pochodnych\n",
    "    def name_of_the_species(self):\n",
    "        pass\n",
    "    \n",
    "    def introduce_yourself(self):\n",
    "        print(\"My name is\", self.name)\n",
    "        \n",
    "\n"
   ]
  },
  {
   "cell_type": "markdown",
   "metadata": {},
   "source": [
    "# Dziedziczenie"
   ]
  },
  {
   "cell_type": "code",
   "execution_count": 2,
   "metadata": {},
   "outputs": [],
   "source": [
    "class Elephant(Animal):\n",
    "    def name_of_the_species(self):\n",
    "        return \"Elephant\""
   ]
  },
  {
   "cell_type": "code",
   "execution_count": 3,
   "metadata": {},
   "outputs": [
    {
     "name": "stdout",
     "output_type": "stream",
     "text": [
      "My name is Dumboo\n"
     ]
    }
   ],
   "source": [
    "dumbo = Elephant(\"Dumboo\")\n",
    "dumbo.introduce_yourself() # Elephant dziedziczy metodę z kalsy Animal"
   ]
  },
  {
   "cell_type": "markdown",
   "metadata": {},
   "source": [
    "# Przesłanianie"
   ]
  },
  {
   "cell_type": "code",
   "execution_count": 60,
   "metadata": {},
   "outputs": [],
   "source": [
    "class Dog(Animal):\n",
    "    def name_of_the_species(self):\n",
    "        return __class__.__name__\n",
    "    def introduce_yourself(self):\n",
    "        print('I am a dog and my name is', self.name)"
   ]
  },
  {
   "cell_type": "code",
   "execution_count": 61,
   "metadata": {},
   "outputs": [
    {
     "name": "stdout",
     "output_type": "stream",
     "text": [
      "I am a dog and my name is Azor\n"
     ]
    }
   ],
   "source": [
    "azor = Dog(\"Azor\")\n",
    "azor.introduce_yourself() # przesłanianie metody- rezygnacja z metody klasy bazowej i wprowadzenia własnego kodu"
   ]
  },
  {
   "cell_type": "code",
   "execution_count": 62,
   "metadata": {},
   "outputs": [],
   "source": [
    "class Cat(Animal):\n",
    "    def name_of_the_species(self):\n",
    "        return __class__.__name__\n",
    "    def introduce_yourself(self):\n",
    "        super().introduce_yourself() # zwraca instancję klasy bazowej\n",
    "        print(\"I am a cat\")\n",
    "    "
   ]
  },
  {
   "cell_type": "code",
   "execution_count": 63,
   "metadata": {},
   "outputs": [
    {
     "name": "stdout",
     "output_type": "stream",
     "text": [
      "My name is Filemon\n",
      "I am a cat\n"
     ]
    }
   ],
   "source": [
    "filemon = Cat(\"Filemon\")\n",
    "filemon.introduce_yourself() # przesłanianie metody- nadpisanie metody klasy bazowej"
   ]
  },
  {
   "cell_type": "markdown",
   "metadata": {},
   "source": [
    "## Przesłanianie konstruktora, hermetyzacja, dekoratory"
   ]
  },
  {
   "cell_type": "code",
   "execution_count": 159,
   "metadata": {},
   "outputs": [],
   "source": [
    "class Bear(Animal):\n",
    "    def __init__(self, name, color): # modyfikacja konstruktora- dodanie nowego parametru\n",
    "        super().__init__(name) # konstruktor klasy bazowej\n",
    "        self.color = color # nowy konstruktor\n",
    "\n",
    "    @property # właściwości\n",
    "    def color(self):\n",
    "        return self.__color\n",
    "    @color.setter\n",
    "    def color(self, color):\n",
    "        if color not in ['white', 'black']:\n",
    "            self.__color = 'colorful'\n",
    "        else:\n",
    "            self.__color = color\n",
    "        \n",
    "    def name_of_the_species(self):\n",
    "        return __class__.__name__\n",
    "    \n",
    "    def introduce_yourself(self):\n",
    "        super().introduce_yourself()\n",
    "        print(\"My color is\", self.color)\n",
    "        \n",
    "    "
   ]
  },
  {
   "cell_type": "code",
   "execution_count": 155,
   "metadata": {},
   "outputs": [
    {
     "name": "stdout",
     "output_type": "stream",
     "text": [
      "My name is Ted\n",
      "My color is white\n"
     ]
    }
   ],
   "source": [
    "ted = Bear(\"Ted\",\"white\")\n",
    "ted.introduce_yourself()"
   ]
  },
  {
   "cell_type": "code",
   "execution_count": 158,
   "metadata": {},
   "outputs": [
    {
     "name": "stdout",
     "output_type": "stream",
     "text": [
      "My name is Ted\n",
      "My color is colorful\n"
     ]
    }
   ],
   "source": [
    "ted = Bear(\"Ted\",\"blue\")\n",
    "ted.introduce_yourself()"
   ]
  },
  {
   "cell_type": "markdown",
   "metadata": {},
   "source": [
    "# Polimorfizm\n",
    " Wywołanie tej samej metody na wielu elementach listy, które są instancjami różnych klas dziedziczących."
   ]
  },
  {
   "cell_type": "code",
   "execution_count": 66,
   "metadata": {},
   "outputs": [
    {
     "data": {
      "text/plain": [
       "'isinstance(dumbo, Elephant): True'"
      ]
     },
     "execution_count": 66,
     "metadata": {},
     "output_type": "execute_result"
    }
   ],
   "source": [
    "f\"isinstance(dumbo, Elephant): {isinstance(dumbo, Elephant)}\""
   ]
  },
  {
   "cell_type": "code",
   "execution_count": 67,
   "metadata": {},
   "outputs": [
    {
     "data": {
      "text/plain": [
       "'isinstance(ted, Elephant): False'"
      ]
     },
     "execution_count": 67,
     "metadata": {},
     "output_type": "execute_result"
    }
   ],
   "source": [
    "f\"isinstance(ted, Elephant): {isinstance(ted, Elephant)}\""
   ]
  },
  {
   "cell_type": "code",
   "execution_count": 68,
   "metadata": {},
   "outputs": [
    {
     "name": "stdout",
     "output_type": "stream",
     "text": [
      "My name is Dumboo\n",
      "\t\n",
      "I am a dog and my name is Azor\n",
      "\t\n",
      "My name is Filemon\n",
      "I am a cat\n",
      "\t\n",
      "My name is Ted\n",
      "My color is white\n",
      "\t\n"
     ]
    }
   ],
   "source": [
    "def introducing_everyone(animals):\n",
    "    for animal in animals:\n",
    "        animal.introduce_yourself()\n",
    "        print(\"\\t\")\n",
    "        \n",
    "        \n",
    "animals = [dumbo, azor, filemon, ted]\n",
    "\n",
    "introducing_everyone(animals)        "
   ]
  }
 ],
 "metadata": {
  "kernelspec": {
   "display_name": "Python 3",
   "language": "python",
   "name": "python3"
  },
  "language_info": {
   "codemirror_mode": {
    "name": "ipython",
    "version": 3
   },
   "file_extension": ".py",
   "mimetype": "text/x-python",
   "name": "python",
   "nbconvert_exporter": "python",
   "pygments_lexer": "ipython3",
   "version": "3.6.8"
  }
 },
 "nbformat": 4,
 "nbformat_minor": 2
}
