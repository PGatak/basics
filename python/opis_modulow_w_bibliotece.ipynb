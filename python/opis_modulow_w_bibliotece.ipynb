{
 "cells": [
  {
   "cell_type": "code",
   "execution_count": 1,
   "metadata": {},
   "outputs": [],
   "source": [
    "import matplotlib as mpl\n",
    "import numpy as np\n",
    "import pkgutil as pu\n",
    "import pydoc\n",
    "import scipy as sp"
   ]
  },
  {
   "cell_type": "code",
   "execution_count": 2,
   "metadata": {},
   "outputs": [],
   "source": [
    "def clean(astr):\n",
    "    s = astr\n",
    "    s = \" \".join(s.split())\n",
    "    s = s.replace('=', '')\n",
    "\n",
    "    return s\n",
    "\n",
    "# wypisuje opis poszczególnych elementów pakietu\n",
    "\n",
    "def print_desc(prefix, pkg_path):\n",
    "    for pkg in pu.iter_modules(path=pkg_path): \n",
    "        name = prefix + \".\" + pkg[1]\n",
    "\n",
    "        if pkg[2] is True:\n",
    "            try:\n",
    "                docstr = pydoc.plain(pydoc.render_doc(name))  \n",
    "                docstr = clean(docstr)\n",
    "                start = docstr.find(\"DESCRIPTION\")\n",
    "                docstr = docstr[start: start + 240]\n",
    "                print(name, docstr)\n",
    "            except:\n",
    "                continue"
   ]
  },
  {
   "cell_type": "code",
   "execution_count": 3,
   "metadata": {},
   "outputs": [
    {
     "name": "stdout",
     "output_type": "stream",
     "text": [
      "NumPy version: 1.18.5\n"
     ]
    }
   ],
   "source": [
    "print(\"NumPy version:\", np.__version__)"
   ]
  },
  {
   "cell_type": "code",
   "execution_count": 4,
   "metadata": {
    "scrolled": true
   },
   "outputs": [
    {
     "name": "stdout",
     "output_type": "stream",
     "text": [
      "numpy.compat DESCRIPTION This module contains duplicated code from Python itself or 3rd party extensions, which may be included for the following reasons: * compatibility * we may only need a small subset of the copied library/module PACKAGE CONTENTS _i\n",
      "numpy.core DESCRIPTION Please note that this module is private. All functions and objects are available in the main ``numpy`` namespace - use that instead. PACKAGE CONTENTS _add_newdocs _aliased_types _asarray _dtype _dtype_ctypes _dummy _exceptions _\n",
      "numpy.distutils DESCRIPTION An enhanced distutils, providing support for Fortran compilers, for BLAS, LAPACK and other common libraries for numerical computing, and more. Public submodules are:: misc_util system_info cpu_info log exec_command For details, \n",
      "numpy.doc DESCRIPTION Topical documentation  The following topics are available: - basics - broadcasting - byteswapping - constants - creation - dispatch - glossary - indexing - internals - misc - structured_arrays - subclassing - ufuncs You can view\n",
      "numpy.f2py \n",
      "numpy.fft DESCRIPTION Discrete Fourier Transform (:mod:`numpy.fft`)  .. currentmodule:: numpy.fft Standard FFTs ------------- .. autosummary:: :toctree: generated/ fft Discrete Fourier transform. ifft Inverse discrete Fourier transform. fft2 Discrete\n",
      "numpy.lib DESCRIPTION **Note:** almost all functions in the ``numpy.lib`` namespace are also present in the main ``numpy`` namespace. Please use the functions as ``np.<funcname>`` where possible. ``numpy.lib`` is mostly a space for implementing funct\n",
      "numpy.linalg DESCRIPTION ``numpy.linalg``  The NumPy linear algebra functions rely on BLAS and LAPACK to provide efficient low level implementations of standard linear algebra algorithms. Those libraries may be provided by NumPy itself using C versions \n",
      "numpy.ma DESCRIPTION  Masked Arrays  Arrays sometimes contain invalid or missing data. When doing operations on such arrays, we wish to suppress invalid values, which is the purpose masked arrays fulfill (an example of typical use is given below). F\n",
      "numpy.matrixlib \n",
      "numpy.polynomial DESCRIPTION Within the documentation for this sub-package, a \"finite power series,\" i.e., a polynomial (also referred to simply as a \"series\") is represented by a 1-D numpy array of the polynomial's coefficients, ordered from lowest order t\n",
      "numpy.random DESCRIPTION  Random Number Generation  Use ``default_rng()`` to create a `Generator` and call its methods.   Generator --------------- --------------------------------------------------------- Generator Class implementing all of the random \n",
      "numpy.testing DESCRIPTION This single module should provide all the common functionality for numpy tests in a single location, so that test scripts can just import it and work right away. PACKAGE CONTENTS _private (package) decorators noseclasses nosetes\n",
      "numpy.tests \n"
     ]
    }
   ],
   "source": [
    "print_desc(\"numpy\", np.__path__)"
   ]
  },
  {
   "cell_type": "code",
   "execution_count": 5,
   "metadata": {},
   "outputs": [
    {
     "name": "stdout",
     "output_type": "stream",
     "text": [
      "SciPy version: 1.5.4\n"
     ]
    }
   ],
   "source": [
    "print(\"SciPy version:\", sp.__version__)"
   ]
  },
  {
   "cell_type": "code",
   "execution_count": 6,
   "metadata": {
    "scrolled": true
   },
   "outputs": [
    {
     "name": "stdout",
     "output_type": "stream",
     "text": [
      "scipy._build_utils \n",
      "scipy._lib DESCRIPTION Module containing private utility functions  The ``scipy._lib`` namespace is empty (for now). Tests for all utilities in submodules of ``_lib`` can be run with:: from scipy import _lib _lib.test() PACKAGE CONTENTS _ccallback _cc\n",
      "scipy.cluster DESCRIPTION  Clustering package (:mod:`scipy.cluster`)  .. currentmodule:: scipy.cluster :mod:`scipy.cluster.vq` Clustering algorithms are useful in information theory, target detection, communications, compression, and other areas. The `vq\n",
      "scipy.constants DESCRIPTION  Constants (:mod:`scipy.constants`)  .. currentmodule:: scipy.constants Physical and mathematical constants and units. Mathematical constants    ``pi`` Pi ``golden`` Golden ratio ``golden_ratio`` Golden ratio   Physical constant\n",
      "scipy.fft DESCRIPTION  Discrete Fourier transforms (:mod:`scipy.fft`)  .. currentmodule:: scipy.fft Fast Fourier Transforms (FFTs)  .. autosummary:: :toctree: generated/ fft - Fast (discrete) Fourier Transform (FFT) ifft - Inverse FFT fft2 - 2-D FFT \n",
      "scipy.fftpack DESCRIPTION  Legacy discrete Fourier transforms (:mod:`scipy.fftpack`)  .. warning:: This submodule is now considered legacy, new code should use :mod:`scipy.fft`. Fast Fourier Transforms (FFTs)  .. autosummary:: :toctree: generated/ fft - \n",
      "scipy.integrate DESCRIPTION  Integration and ODEs (:mod:`scipy.integrate`)  .. currentmodule:: scipy.integrate Integrating functions, given function object  .. autosummary:: :toctree: generated/ quad -- General purpose integration quad_vec -- General purpo\n",
      "scipy.interpolate DESCRIPTION  Interpolation (:mod:`scipy.interpolate`)  .. currentmodule:: scipy.interpolate Sub-package for objects used in interpolation. As listed below, this sub-package contains spline functions and classes, 1-D and multidimensional (un\n",
      "scipy.io DESCRIPTION  Input and output (:mod:`scipy.io`)  .. currentmodule:: scipy.io SciPy has many modules, classes, and functions available to read data from and write data to a variety of file formats. .. seealso:: `NumPy IO routines <https://ww\n",
      "scipy.linalg DESCRIPTION  Linear algebra (:mod:`scipy.linalg`)  .. currentmodule:: scipy.linalg Linear algebra functions. .. eventually, we should replace the numpy.linalg HTML link with just `numpy.linalg` .. seealso:: `numpy.linalg <https://www.numpy.\n",
      "scipy.misc DESCRIPTION  Miscellaneous routines (:mod:`scipy.misc`)  .. currentmodule:: scipy.misc Various utilities that don't have another home. .. autosummary:: :toctree: generated/ ascent - Get example image for processing central_diff_weights - We\n",
      "scipy.ndimage DESCRIPTION  Multidimensional image processing (:mod:`scipy.ndimage`)  .. currentmodule:: scipy.ndimage This package contains various functions for multidimensional image processing. Filters  .. autosummary:: :toctree: generated/ convolve -\n",
      "scipy.odr DESCRIPTION  Orthogonal distance regression (:mod:`scipy.odr`)  .. currentmodule:: scipy.odr Package Content  .. autosummary:: :toctree: generated/ Data -- The data to fit. RealData -- Data with weights as actual std. dev.s and/or covarianc\n",
      "scipy.optimize DESCRIPTION  Optimization and root finding (:mod:`scipy.optimize`)  .. currentmodule:: scipy.optimize SciPy ``optimize`` provides functions for minimizing (or maximizing) objective functions, possibly subject to constraints. It includes sol\n",
      "scipy.signal DESCRIPTION  Signal processing (:mod:`scipy.signal`)  Convolution  .. autosummary:: :toctree: generated/ convolve -- N-D convolution. correlate -- N-D correlation. fftconvolve -- N-D convolution using the FFT. oaconvolve -- N-D convolution \n",
      "scipy.sparse DESCRIPTION  Sparse matrices (:mod:`scipy.sparse`)  .. currentmodule:: scipy.sparse SciPy 2-D sparse matrix package for numeric data. Contents  Sparse matrix classes --------------------- .. autosummary:: :toctree: generated/ bsr_matrix - B\n",
      "scipy.spatial DESCRIPTION  Spatial algorithms and data structures (:mod:`scipy.spatial`)  .. currentmodule:: scipy.spatial Spatial transformations  These are contained in the `scipy.spatial.transform` submodule. Nearest-neighbor queries  .. autosummary::\n",
      "scipy.special DESCRIPTION  Special functions (:mod:`scipy.special`)  .. currentmodule:: scipy.special Nearly all of the functions below are universal functions and follow broadcasting and automatic array-looping rules. .. seealso:: `scipy.special.cython_\n",
      "scipy.stats DESCRIPTION  Statistical functions (:mod:`scipy.stats`)  .. currentmodule:: scipy.stats This module contains a large number of probability distributions as well as a growing library of statistical functions. Each univariate distribution is \n"
     ]
    }
   ],
   "source": [
    "print_desc(\"scipy\", sp.__path__)"
   ]
  }
 ],
 "metadata": {
  "kernelspec": {
   "display_name": "Python 3",
   "language": "python",
   "name": "python3"
  },
  "language_info": {
   "codemirror_mode": {
    "name": "ipython",
    "version": 3
   },
   "file_extension": ".py",
   "mimetype": "text/x-python",
   "name": "python",
   "nbconvert_exporter": "python",
   "pygments_lexer": "ipython3",
   "version": "3.6.9"
  }
 },
 "nbformat": 4,
 "nbformat_minor": 4
}
