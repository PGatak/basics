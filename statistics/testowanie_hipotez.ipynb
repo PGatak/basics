{
 "cells": [
  {
   "cell_type": "code",
   "execution_count": 1,
   "metadata": {},
   "outputs": [],
   "source": [
    "import scipy.stats as scs\n",
    "import numpy as np\n",
    "import pandas"
   ]
  },
  {
   "cell_type": "code",
   "execution_count": 2,
   "metadata": {},
   "outputs": [],
   "source": [
    "# Wczytanie danych\n",
    "dane_wzrost_1 = np.loadtxt(r'Source/Wzrost.csv', delimiter=',')\n",
    "dane_wzrost_2 = np.loadtxt(r'Source/Wzrost1.csv', delimiter=',')\n",
    "dane_mozg = pandas.read_csv(r'Source/brain_size.csv', sep=';', na_values='.')"
   ]
  },
  {
   "cell_type": "code",
   "execution_count": 4,
   "metadata": {},
   "outputs": [
    {
     "data": {
      "text/plain": [
       "array([156., 158., 167., 188., 197., 167., 197., 178., 186., 157., 198.,\n",
       "       199., 178., 168., 156., 151., 167., 167.])"
      ]
     },
     "execution_count": 4,
     "metadata": {},
     "output_type": "execute_result"
    }
   ],
   "source": [
    "dane_wzrost_1"
   ]
  },
  {
   "cell_type": "markdown",
   "metadata": {},
   "source": [
    "### p > alfa - nie ma podstaw do odrzucenia H0\n",
    "### p < alfa - odrzucamy H0 na korzyść H1"
   ]
  },
  {
   "cell_type": "code",
   "execution_count": 5,
   "metadata": {},
   "outputs": [],
   "source": [
    "def hypothesis_testing (pvalue):\n",
    "    alfa = 0.05\n",
    "    if pvalue >= alfa:\n",
    "        print(f\"(pvalue = {pvalue}) >= (alfa = {alfa})\\nNie ma podstaw do odrzucenia H0\")\n",
    "    else:\n",
    "        print(f\"(pvalue = {pvalue}) < (alfa = {alfa})\\nOdrzucamy H0 na korzyść H1\")"
   ]
  },
  {
   "cell_type": "markdown",
   "metadata": {},
   "source": [
    "### Test dla 1 średniej"
   ]
  },
  {
   "cell_type": "code",
   "execution_count": 6,
   "metadata": {},
   "outputs": [
    {
     "name": "stdout",
     "output_type": "stream",
     "text": [
      "(pvalue = 0.0019390977697681026) < (alfa = 0.05)\n",
      "Odrzucamy H0 na korzyść H1\n"
     ]
    }
   ],
   "source": [
    "# zakładany poziom istotności alfa = 0,05\n",
    "\n",
    "test_1 = scs.ttest_1samp(dane_wzrost_1, 160)\n",
    "hypothesis_testing(test_1[1])"
   ]
  },
  {
   "cell_type": "code",
   "execution_count": 7,
   "metadata": {},
   "outputs": [
    {
     "name": "stdout",
     "output_type": "stream",
     "text": [
      "(pvalue = 0.5829399758097207) >= (alfa = 0.05)\n",
      "Nie ma podstaw do odrzucenia H0\n"
     ]
    }
   ],
   "source": [
    "test_2 = scs.ttest_1samp(dane_wzrost_1, 172)\n",
    "hypothesis_testing(test_2[1])"
   ]
  },
  {
   "cell_type": "code",
   "execution_count": 8,
   "metadata": {},
   "outputs": [
    {
     "name": "stdout",
     "output_type": "stream",
     "text": [
      "174.16666666666666\n"
     ]
    }
   ],
   "source": [
    "srednia_wzrostu = dane_wzrost_1.mean()\n",
    "print(srednia_wzrostu)"
   ]
  },
  {
   "cell_type": "markdown",
   "metadata": {},
   "source": [
    "### Test dla 2 średnich  dla prób niezależnych"
   ]
  },
  {
   "cell_type": "code",
   "execution_count": 9,
   "metadata": {},
   "outputs": [
    {
     "name": "stdout",
     "output_type": "stream",
     "text": [
      "172.0\n"
     ]
    }
   ],
   "source": [
    "srednia_wzrostu = dane_wzrost_2.mean()\n",
    "print(srednia_wzrostu)"
   ]
  },
  {
   "cell_type": "code",
   "execution_count": 10,
   "metadata": {},
   "outputs": [
    {
     "name": "stdout",
     "output_type": "stream",
     "text": [
      "Ttest_indResult(statistic=0.41525730473274525, pvalue=0.6805625200319878)\n"
     ]
    }
   ],
   "source": [
    "test_dwie_srednie = scs.ttest_ind(dane_wzrost_1, dane_wzrost_2)\n",
    "print(test_dwie_srednie)"
   ]
  },
  {
   "cell_type": "code",
   "execution_count": 11,
   "metadata": {},
   "outputs": [
    {
     "data": {
      "text/plain": [
       "array([156., 178., 147., 188., 187., 167., 197., 168., 185., 159., 188.,\n",
       "       189., 178., 168., 156., 151., 167., 167.])"
      ]
     },
     "execution_count": 11,
     "metadata": {},
     "output_type": "execute_result"
    }
   ],
   "source": [
    "dane_wzrost_2"
   ]
  },
  {
   "cell_type": "code",
   "execution_count": 12,
   "metadata": {},
   "outputs": [],
   "source": [
    "new_value = np.array([500])\n",
    "dane_wzrost_2 = np.concatenate((dane_wzrost_2, new_value))"
   ]
  },
  {
   "cell_type": "code",
   "execution_count": 13,
   "metadata": {},
   "outputs": [
    {
     "name": "stdout",
     "output_type": "stream",
     "text": [
      "189.26315789473685\n"
     ]
    }
   ],
   "source": [
    "srednia_wzrostu = dane_wzrost_2.mean()\n",
    "print(srednia_wzrostu)"
   ]
  },
  {
   "cell_type": "code",
   "execution_count": 14,
   "metadata": {},
   "outputs": [
    {
     "name": "stdout",
     "output_type": "stream",
     "text": [
      "Ttest_indResult(statistic=-0.8177652111595043, pvalue=0.4190237723521574)\n"
     ]
    }
   ],
   "source": [
    "test_dwie_srednie = scs.ttest_ind(dane_wzrost_1, dane_wzrost_2)\n",
    "print(test_dwie_srednie)"
   ]
  },
  {
   "cell_type": "markdown",
   "metadata": {},
   "source": [
    "### Test dla 2 średnich dla prób zależnych"
   ]
  },
  {
   "cell_type": "code",
   "execution_count": 15,
   "metadata": {},
   "outputs": [
    {
     "name": "stdout",
     "output_type": "stream",
     "text": [
      "   Unnamed: 0  Gender  FSIQ  VIQ  PIQ  Weight  Height  MRI_Count\n",
      "0           1  Female   133  132  124   118.0    64.5     816932\n",
      "1           2    Male   140  150  124     NaN    72.5    1001121\n",
      "2           3    Male   139  123  150   143.0    73.3    1038437\n",
      "3           4    Male   133  129  128   172.0    68.8     965353\n",
      "4           5  Female   137  132  134   147.0    65.0     951545\n"
     ]
    }
   ],
   "source": [
    "print(dane_mozg.head())"
   ]
  },
  {
   "cell_type": "code",
   "execution_count": 16,
   "metadata": {},
   "outputs": [
    {
     "name": "stdout",
     "output_type": "stream",
     "text": [
      "Ttest_relResult(statistic=0.8913911665594247, pvalue=0.37818604189634275)\n"
     ]
    }
   ],
   "source": [
    "test_dwie_srednie_zalezne = scs.ttest_rel(dane_mozg['FSIQ'], dane_mozg['VIQ'])\n",
    "print(test_dwie_srednie_zalezne)"
   ]
  },
  {
   "cell_type": "code",
   "execution_count": 17,
   "metadata": {},
   "outputs": [
    {
     "name": "stdout",
     "output_type": "stream",
     "text": [
      "Ttest_1sampResult(statistic=0.8913911665594247, pvalue=0.37818604189634275)\n"
     ]
    }
   ],
   "source": [
    "test_dwie_srednie_zalezne_uzyty_dla_jendej_sredniej = scs.ttest_1samp(dane_mozg['FSIQ']-dane_mozg['VIQ'], 0)\n",
    "print(test_dwie_srednie_zalezne_uzyty_dla_jendej_sredniej)"
   ]
  }
 ],
 "metadata": {
  "kernelspec": {
   "display_name": "Python 3",
   "language": "python",
   "name": "python3"
  },
  "language_info": {
   "codemirror_mode": {
    "name": "ipython",
    "version": 3
   },
   "file_extension": ".py",
   "mimetype": "text/x-python",
   "name": "python",
   "nbconvert_exporter": "python",
   "pygments_lexer": "ipython3",
   "version": "3.6.9"
  }
 },
 "nbformat": 4,
 "nbformat_minor": 4
}
